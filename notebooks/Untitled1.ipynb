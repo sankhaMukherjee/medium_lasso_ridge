{
 "cells": [
  {
   "cell_type": "code",
   "execution_count": 27,
   "metadata": {
    "ExecuteTime": {
     "end_time": "2020-05-23T16:02:09.321419Z",
     "start_time": "2020-05-23T16:02:09.317630Z"
    }
   },
   "outputs": [],
   "source": [
    "import matplotlib.pyplot as plt\n",
    "import numpy as np\n",
    "\n",
    "\n",
    "import matplotlib as mpl\n",
    "mpl.rcParams['mathtext.fontset'] = 'cm'\n",
    "\n",
    "from matplotlib import font_manager as fm\n",
    "fPath = '/usr/share/fonts/truetype/msttcorefonts/Times_New_Roman.ttf'\n",
    "prop = fm.FontProperties(fname=fPath, size=None)\n",
    "propSmall = fm.FontProperties(fname=fPath, size='small')"
   ]
  },
  {
   "cell_type": "code",
   "execution_count": 86,
   "metadata": {
    "ExecuteTime": {
     "end_time": "2020-05-23T16:43:14.957362Z",
     "start_time": "2020-05-23T16:43:14.785460Z"
    }
   },
   "outputs": [
    {
     "data": {
      "image/png": "[encoded data removed]",
      "text/plain": [
       "<Figure size 252x216 with 1 Axes>"
      ]
     },
     "metadata": {
      "needs_background": "light"
     },
     "output_type": "display_data"
    }
   ],
   "source": [
    "t = np.linspace(-10, 10, 1000)\n",
    "x = np.linspace(-np.pi/2, np.pi-0.5, 1000)\n",
    "y = np.sin( x )*0.5 + (np.random.rand(1000)-0.5) * 0.2\n",
    "y = y - y[500] + 10\n",
    "\n",
    "\n",
    "plt.figure(figsize=(3.5, 3))\n",
    "ax = plt.axes([0.15, 0.15, 0.84, 0.84])\n",
    "\n",
    "plt.plot(t[:500], y[:500], color='black' )\n",
    "plt.plot(t[500:700], y[500:700], color='red', alpha=0.2 )\n",
    "\n",
    "plt.axhline(11, color='brown', lw=0.5)\n",
    "plt.axhline(9, color='orange', lw=0.5)\n",
    "\n",
    "plt.text(-7.5, 11.1, '(a) option to buy', fontproperties=propSmall, color='brown')\n",
    "plt.text(-7.5, 9.1, '(b) option to buy', fontproperties=propSmall, color='orange')\n",
    "plt.text(-7.5, 10.1, 'current price', fontproperties=propSmall, color='black')\n",
    "\n",
    "\n",
    "plt.text(0, 8, r'$\\rightarrow$ future', fontproperties=propSmall)\n",
    "plt.text(-2, 8, r'past $\\leftarrow$', fontproperties=propSmall)\n",
    "plt.text(1.2, 9.35, r'profit', fontproperties=propSmall)\n",
    "\n",
    "plt.arrow(1, 9, 0, 1, width=0.2, length_includes_head=True, head_length=0.3, ec='None')\n",
    "\n",
    "plt.axvline(0, ls='--', color=(0.3,0.3,0.3), lw=0.5)\n",
    "plt.axhline(10, ls='--', color=(0.3,0.3,0.3), lw=0.5)\n",
    "\n",
    "plt.xticks([-10, -5, 0], fontproperties=propSmall)\n",
    "plt.yticks([7, 9, 11], fontproperties=propSmall)\n",
    "\n",
    "plt.ylim(7, 12)\n",
    "\n",
    "plt.xlabel('$t$')\n",
    "plt.ylabel('stock price', fontproperties=prop)\n",
    "plt.savefig('../images/basic.png', dpi=200)\n",
    "plt.show()\n",
    "plt.close()"
   ]
  },
  {
   "cell_type": "code",
   "execution_count": null,
   "metadata": {},
   "outputs": [],
   "source": []
  }
 ],
 "metadata": {
  "hide_input": false,
  "kernelspec": {
   "display_name": "Python 3",
   "language": "python",
   "name": "python3"
  },
  "language_info": {
   "codemirror_mode": {
    "name": "ipython",
    "version": 3
   },
   "file_extension": ".py",
   "mimetype": "text/x-python",
   "name": "python",
   "nbconvert_exporter": "python",
   "pygments_lexer": "ipython3",
   "version": "3.7.7"
  },
  "toc": {
   "base_numbering": 1,
   "nav_menu": {},
   "number_sections": true,
   "sideBar": true,
   "skip_h1_title": false,
   "title_cell": "Table of Contents",
   "title_sidebar": "Contents",
   "toc_cell": false,
   "toc_position": {},
   "toc_section_display": true,
   "toc_window_display": false
  }
 },
 "nbformat": 4,
 "nbformat_minor": 4
}
